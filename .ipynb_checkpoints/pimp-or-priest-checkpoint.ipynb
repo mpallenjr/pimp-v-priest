{
 "cells": [
  {
   "cell_type": "code",
   "execution_count": null,
   "id": "ff3ef849-e057-4d73-9fee-75acb9982e60",
   "metadata": {},
   "outputs": [],
   "source": [
    "!pip install -Uqq fastai duckduckgo_search"
   ]
  },
  {
   "cell_type": "code",
   "execution_count": null,
   "id": "2ff88847-0029-49d0-bf90-d89a7412fb76",
   "metadata": {},
   "outputs": [],
   "source": [
    "from duckduckgo_search import ddg_images\n",
    "from fastcore.all import *\n",
    "\n",
    "def search_images(term, max_images=30):\n",
    "    print(f\"Searching for '{term}'\")\n",
    "    return L(ddg_images(term, max_results=max_images)).itemgot('image')"
   ]
  },
  {
   "cell_type": "code",
   "execution_count": null,
   "id": "6d735ee3-4386-4ed6-9266-7721def8e679",
   "metadata": {},
   "outputs": [],
   "source": [
    "urls = search_images('pimp photos', max_images=1)\n",
    "urls[0]"
   ]
  },
  {
   "cell_type": "code",
   "execution_count": null,
   "id": "d8e06775-c2e0-4657-93c6-9e1b52cb5cbe",
   "metadata": {},
   "outputs": [],
   "source": [
    "from fastdownload import download_url\n",
    "dest = 'pimp.jpg'\n",
    "download_url(urls[0], dest, show_progress=False)\n",
    "\n",
    "from fastai.vision.all import *\n",
    "im = Image.open(dest)\n",
    "im.to_thumb(256,256)"
   ]
  },
  {
   "cell_type": "code",
   "execution_count": null,
   "id": "7a19e06f-a1ec-4714-9b3a-86590a968b0b",
   "metadata": {},
   "outputs": [],
   "source": [
    "download_url(search_images('priest photos', max_images=1)[0], 'priest.jpg', show_progress=False)\n",
    "Image.open('priest.jpg').to_thumb(256,256)"
   ]
  },
  {
   "cell_type": "code",
   "execution_count": null,
   "id": "bfdc20f0-4b49-48ee-8d88-416006c6e6f2",
   "metadata": {},
   "outputs": [],
   "source": [
    "searches = 'priest','pimp'\n",
    "path = Path('pimp_or_priest')\n",
    "from time import sleep\n",
    "\n",
    "for o in searches:\n",
    "    dest = (path/o)\n",
    "    dest.mkdir(exist_ok=True, parents=True)\n",
    "    download_images(dest, urls=search_images(f'{o} photo'))\n",
    "    sleep(10)\n",
    "    download_images(dest, urls=search_images(f'{o} at work photo'))\n",
    "    sleep(10)\n",
    "    download_images(dest, urls=search_images(f'{o} in action photo'))\n",
    "    sleep(10)\n",
    "    resize_images(path/o, max_size=400, dest=path/o)"
   ]
  },
  {
   "cell_type": "code",
   "execution_count": null,
   "id": "6c7c77c5-5433-4ce7-baa6-6e16bafe38da",
   "metadata": {},
   "outputs": [],
   "source": [
    "failed = verify_images(get_image_files(path))\n",
    "failed.map(Path.unlink)\n",
    "len(failed)"
   ]
  },
  {
   "cell_type": "code",
   "execution_count": null,
   "id": "1897aad2-8ac5-41f8-a670-17a3f87a265c",
   "metadata": {},
   "outputs": [],
   "source": [
    "dls = DataBlock(\n",
    "    blocks=(ImageBlock, CategoryBlock), \n",
    "    get_items=get_image_files, \n",
    "    splitter=RandomSplitter(valid_pct=0.2, seed=42),\n",
    "    get_y=parent_label,\n",
    "    item_tfms=[Resize(192, method='squish')]\n",
    ").dataloaders(path, bs=32)\n",
    "\n",
    "dls.show_batch(max_n=6)"
   ]
  },
  {
   "cell_type": "code",
   "execution_count": null,
   "id": "03bcbba0-f053-477e-b0eb-b96377d9d785",
   "metadata": {},
   "outputs": [],
   "source": [
    "learn = vision_learner(dls, resnet18, metrics=error_rate)\n",
    "learn.fine_tune(3)"
   ]
  },
  {
   "cell_type": "code",
   "execution_count": null,
   "id": "4084539c-9412-47c3-8bf1-6243c98de734",
   "metadata": {},
   "outputs": [],
   "source": [
    "is_bird,_,probs = learn.predict(PILImage.create('pimp.jpg'))\n",
    "print(f\"This is a: {is_pimp}.\")\n",
    "print(f\"Probability it's a pimp: {probs[0]:.4f}\")"
   ]
  }
 ],
 "metadata": {
  "kernelspec": {
   "display_name": "Python 3 (ipykernel)",
   "language": "python",
   "name": "python3"
  },
  "language_info": {
   "codemirror_mode": {
    "name": "ipython",
    "version": 3
   },
   "file_extension": ".py",
   "mimetype": "text/x-python",
   "name": "python",
   "nbconvert_exporter": "python",
   "pygments_lexer": "ipython3",
   "version": "3.11.6"
  }
 },
 "nbformat": 4,
 "nbformat_minor": 5
}
